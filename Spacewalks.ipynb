{
 "cells": [
  {
   "cell_type": "code",
   "execution_count": 3,
   "metadata": {
    "collapsed": true,
    "pycharm": {
     "name": "#%%\n"
    }
   },
   "outputs": [
    {
     "data": {
      "text/plain": "           Mission                         Date  Duration (hours)   \\\n0           STS-88     Monday, December 7, 1998                  7   \n1           STS-88     Monday, December 7, 1998                  7   \n2           STS-88  Wednesday, December 9, 1998                  7   \n3           STS-88  Wednesday, December 9, 1998                  7   \n4           STS-88  Saturday, December 12, 1998                  6   \n..             ...                          ...                ...   \n427  Expedition 59       Friday, March 22, 2019                  6   \n428  Expedition 59       Friday, March 29, 2019                  6   \n429  Expedition 59       Friday, March 29, 2019                  6   \n430  Expedition 59        Monday, April 8, 2019                  6   \n431  Expedition 59        Monday, April 8, 2019                  6   \n\n     Duration (minutes)          Spacewalker  \n0                    21           Jerry Ross  \n1                    21         James Newman  \n2                     2           Jerry Ross  \n3                     2         James Newman  \n4                    59           Jerry Ross  \n..                  ...                  ...  \n427                  39           Nick Hague  \n428                  45           Nick Hague  \n429                  45       Christina Koch  \n430                  29         Anne McClain  \n431                  29  David Saint-Jacques  \n\n[432 rows x 5 columns]",
      "text/html": "<div>\n<style scoped>\n    .dataframe tbody tr th:only-of-type {\n        vertical-align: middle;\n    }\n\n    .dataframe tbody tr th {\n        vertical-align: top;\n    }\n\n    .dataframe thead th {\n        text-align: right;\n    }\n</style>\n<table border=\"1\" class=\"dataframe\">\n  <thead>\n    <tr style=\"text-align: right;\">\n      <th></th>\n      <th>Mission</th>\n      <th>Date</th>\n      <th>Duration (hours)</th>\n      <th>Duration (minutes)</th>\n      <th>Spacewalker</th>\n    </tr>\n  </thead>\n  <tbody>\n    <tr>\n      <th>0</th>\n      <td>STS-88</td>\n      <td>Monday, December 7, 1998</td>\n      <td>7</td>\n      <td>21</td>\n      <td>Jerry Ross</td>\n    </tr>\n    <tr>\n      <th>1</th>\n      <td>STS-88</td>\n      <td>Monday, December 7, 1998</td>\n      <td>7</td>\n      <td>21</td>\n      <td>James Newman</td>\n    </tr>\n    <tr>\n      <th>2</th>\n      <td>STS-88</td>\n      <td>Wednesday, December 9, 1998</td>\n      <td>7</td>\n      <td>2</td>\n      <td>Jerry Ross</td>\n    </tr>\n    <tr>\n      <th>3</th>\n      <td>STS-88</td>\n      <td>Wednesday, December 9, 1998</td>\n      <td>7</td>\n      <td>2</td>\n      <td>James Newman</td>\n    </tr>\n    <tr>\n      <th>4</th>\n      <td>STS-88</td>\n      <td>Saturday, December 12, 1998</td>\n      <td>6</td>\n      <td>59</td>\n      <td>Jerry Ross</td>\n    </tr>\n    <tr>\n      <th>...</th>\n      <td>...</td>\n      <td>...</td>\n      <td>...</td>\n      <td>...</td>\n      <td>...</td>\n    </tr>\n    <tr>\n      <th>427</th>\n      <td>Expedition 59</td>\n      <td>Friday, March 22, 2019</td>\n      <td>6</td>\n      <td>39</td>\n      <td>Nick Hague</td>\n    </tr>\n    <tr>\n      <th>428</th>\n      <td>Expedition 59</td>\n      <td>Friday, March 29, 2019</td>\n      <td>6</td>\n      <td>45</td>\n      <td>Nick Hague</td>\n    </tr>\n    <tr>\n      <th>429</th>\n      <td>Expedition 59</td>\n      <td>Friday, March 29, 2019</td>\n      <td>6</td>\n      <td>45</td>\n      <td>Christina Koch</td>\n    </tr>\n    <tr>\n      <th>430</th>\n      <td>Expedition 59</td>\n      <td>Monday, April 8, 2019</td>\n      <td>6</td>\n      <td>29</td>\n      <td>Anne McClain</td>\n    </tr>\n    <tr>\n      <th>431</th>\n      <td>Expedition 59</td>\n      <td>Monday, April 8, 2019</td>\n      <td>6</td>\n      <td>29</td>\n      <td>David Saint-Jacques</td>\n    </tr>\n  </tbody>\n</table>\n<p>432 rows × 5 columns</p>\n</div>"
     },
     "execution_count": 3,
     "metadata": {},
     "output_type": "execute_result"
    }
   ],
   "source": [
    "import pandas as pd\n",
    "kernel_stats = pd.read_csv('Spacewalks.csv')\n",
    "kernel_stats\n"
   ]
  },
  {
   "cell_type": "markdown",
   "source": [],
   "metadata": {
    "collapsed": false,
    "pycharm": {
     "name": "#%% md\n"
    }
   }
  },
  {
   "cell_type": "code",
   "execution_count": 7,
   "outputs": [
    {
     "ename": "TypeError",
     "evalue": "bar() missing 1 required positional argument: 'height'",
     "output_type": "error",
     "traceback": [
      "\u001B[1;31m---------------------------------------------------------------------------\u001B[0m",
      "\u001B[1;31mTypeError\u001B[0m                                 Traceback (most recent call last)",
      "\u001B[1;32m~\\AppData\\Local\\Temp/ipykernel_24492/628411144.py\u001B[0m in \u001B[0;36m<module>\u001B[1;34m\u001B[0m\n\u001B[0;32m      1\u001B[0m \u001B[1;32mimport\u001B[0m \u001B[0mmatplotlib\u001B[0m\u001B[1;33m.\u001B[0m\u001B[0mpyplot\u001B[0m \u001B[1;32mas\u001B[0m \u001B[0mplt\u001B[0m\u001B[1;33m\u001B[0m\u001B[1;33m\u001B[0m\u001B[0m\n\u001B[1;32m----> 2\u001B[1;33m \u001B[0mplt\u001B[0m\u001B[1;33m.\u001B[0m\u001B[0mbar\u001B[0m\u001B[1;33m(\u001B[0m\u001B[0mkernel_stats\u001B[0m\u001B[1;33m[\u001B[0m\u001B[1;34m'Mission'\u001B[0m\u001B[1;33m]\u001B[0m\u001B[1;33m,\u001B[0m\u001B[0my\u001B[0m\u001B[1;33m=\u001B[0m\u001B[0mkernel_stats\u001B[0m\u001B[1;33m[\u001B[0m\u001B[1;34m'Spacewalker'\u001B[0m\u001B[1;33m]\u001B[0m\u001B[1;33m)\u001B[0m\u001B[1;33m\u001B[0m\u001B[1;33m\u001B[0m\u001B[0m\n\u001B[0m\u001B[0;32m      3\u001B[0m \u001B[1;33m\u001B[0m\u001B[0m\n\u001B[0;32m      4\u001B[0m \u001B[0mplt\u001B[0m\u001B[1;33m.\u001B[0m\u001B[0mshow\u001B[0m\u001B[1;33m(\u001B[0m\u001B[1;33m)\u001B[0m\u001B[1;33m\u001B[0m\u001B[1;33m\u001B[0m\u001B[0m\n",
      "\u001B[1;31mTypeError\u001B[0m: bar() missing 1 required positional argument: 'height'"
     ]
    }
   ],
   "source": [
    "import matplotlib.pyplot as plt\n",
    "plt.bar(kernel_stats['Mission'],y=kernel_stats['Spacewalker'],height=[kernel_stats])\n",
    "\n",
    "plt.show()"
   ],
   "metadata": {
    "collapsed": false,
    "pycharm": {
     "name": "#%%\n"
    }
   }
  },
  {
   "cell_type": "markdown",
   "source": [],
   "metadata": {
    "collapsed": false
   }
  },
  {
   "cell_type": "code",
   "execution_count": 6,
   "outputs": [],
   "source": [],
   "metadata": {
    "collapsed": false,
    "pycharm": {
     "name": "#%%\n"
    }
   }
  },
  {
   "cell_type": "code",
   "execution_count": null,
   "outputs": [],
   "source": [],
   "metadata": {
    "collapsed": false,
    "pycharm": {
     "name": "#%%\n"
    }
   }
  }
 ],
 "metadata": {
  "kernelspec": {
   "display_name": "Python 3",
   "language": "python",
   "name": "python3"
  },
  "language_info": {
   "codemirror_mode": {
    "name": "ipython",
    "version": 2
   },
   "file_extension": ".py",
   "mimetype": "text/x-python",
   "name": "python",
   "nbconvert_exporter": "python",
   "pygments_lexer": "ipython2",
   "version": "2.7.6"
  }
 },
 "nbformat": 4,
 "nbformat_minor": 0
}